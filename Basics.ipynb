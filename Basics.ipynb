{
 "cells": [
  {
   "cell_type": "markdown",
   "metadata": {},
   "source": [
    "# New App Recommendations"
   ]
  },
  {
   "cell_type": "markdown",
   "metadata": {},
   "source": [
    "### What the project is about?\n",
    "This project focuses on analysing mobile app data from the Apple App Store and Google Play Store. As a product analyst for a company that develops Android and iOS apps, our goal is to identify the types of apps most likely attract a large number of users."
   ]
  },
  {
   "cell_type": "markdown",
   "metadata": {},
   "source": [
    "### The goal of this project -\n",
    "Since we only build apps that are free to download and install, our revenue comes from the in-app advertisements - the more users who see and engage with the ads, the better. \n",
    "\n",
    "Our goal for this project is to analyze the data to help our developers understand what types of apps are likely to attract more users."
   ]
  },
  {
   "cell_type": "markdown",
   "metadata": {},
   "source": [
    "### Exploring the Data\n",
    "\n",
    "We will create a function named explore_data() which we can use repeatedly to print rows from our data sets in a a readable way. We will also include the option to show the rows and columns for any dataset.\n",
    "\n",
    "Using the created explore_data function, we will explore the App Store dataset and the Google Play store dataset. "
   ]
  },
  {
   "cell_type": "code",
   "execution_count": 1,
   "metadata": {},
   "outputs": [],
   "source": [
    "import csv\n",
    "\n",
    "# Reading AppStore data\n",
    "appStore = open('AppleStore.csv', newline='',encoding = 'utf8')\n",
    "app_store_data = list(csv.reader(appStore))\n",
    "\n",
    "# Reading PlayStore data\n",
    "playStore = open('googleplaystore.csv', newline='',encoding = 'utf8')\n",
    "google_store_data = list(csv.reader(playStore))\n",
    "\n",
    "\n",
    "def explore_data(dataset, start, end, rows_and_columns=True):\n",
    "    dataset_slice = dataset[start:end]\n",
    "    for row in dataset_slice:\n",
    "        print(row)\n",
    "        print('\\n')\n",
    "    \n",
    "    if rows_and_columns:\n",
    "        print('number of rows: ', len(dataset))\n",
    "        print('number of columns: ', len(dataset[0]))\n",
    "    "
   ]
  },
  {
   "cell_type": "markdown",
   "metadata": {},
   "source": [
    "### AppStore"
   ]
  },
  {
   "cell_type": "code",
   "execution_count": 2,
   "metadata": {
    "scrolled": true
   },
   "outputs": [
    {
     "name": "stdout",
     "output_type": "stream",
     "text": [
      "['id', 'track_name', 'size_bytes', 'currency', 'price', 'rating_count_tot', 'rating_count_ver', 'user_rating', 'user_rating_ver', 'ver', 'cont_rating', 'prime_genre', 'sup_devices.num', 'ipadSc_urls.num', 'lang.num', 'vpp_lic']\n",
      "\n",
      "\n",
      "['284882215', 'Facebook', '389879808', 'USD', '0.0', '2974676', '212', '3.5', '3.5', '95.0', '4+', 'Social Networking', '37', '1', '29', '1']\n",
      "\n",
      "\n",
      "['389801252', 'Instagram', '113954816', 'USD', '0.0', '2161558', '1289', '4.5', '4.0', '10.23', '12+', 'Photo & Video', '37', '0', '29', '1']\n",
      "\n",
      "\n",
      "['529479190', 'Clash of Clans', '116476928', 'USD', '0.0', '2130805', '579', '4.5', '4.5', '9.24.12', '9+', 'Games', '38', '5', '18', '1']\n",
      "\n",
      "\n",
      "['420009108', 'Temple Run', '65921024', 'USD', '0.0', '1724546', '3842', '4.5', '4.0', '1.6.2', '9+', 'Games', '40', '5', '1', '1']\n",
      "\n",
      "\n",
      "number of rows:  7198\n",
      "number of columns:  16\n"
     ]
    }
   ],
   "source": [
    "explore_data(app_store_data, 0,5)"
   ]
  },
  {
   "cell_type": "markdown",
   "metadata": {},
   "source": [
    "The app store data have 7197 iOS apps and 16 columns. The columns that will most likely be interest of us include 'track_name','price','rating_count_tot','user_rating','prime_genre'.\n",
    "\n",
    "### PlayStore"
   ]
  },
  {
   "cell_type": "code",
   "execution_count": 3,
   "metadata": {},
   "outputs": [
    {
     "name": "stdout",
     "output_type": "stream",
     "text": [
      "['App', 'Category', 'Rating', 'Reviews', 'Size', 'Installs', 'Type', 'Price', 'Content Rating', 'Genres', 'Last Updated', 'Current Ver', 'Android Ver']\n",
      "\n",
      "\n",
      "['Photo Editor & Candy Camera & Grid & ScrapBook', 'ART_AND_DESIGN', '4.1', '159', '19M', '10,000+', 'Free', '0', 'Everyone', 'Art & Design', 'January 7, 2018', '1.0.0', '4.0.3 and up']\n",
      "\n",
      "\n",
      "['Coloring book moana', 'ART_AND_DESIGN', '3.9', '967', '14M', '500,000+', 'Free', '0', 'Everyone', 'Art & Design;Pretend Play', 'January 15, 2018', '2.0.0', '4.0.3 and up']\n",
      "\n",
      "\n",
      "['U Launcher Lite – FREE Live Cool Themes, Hide Apps', 'ART_AND_DESIGN', '4.7', '87510', '8.7M', '5,000,000+', 'Free', '0', 'Everyone', 'Art & Design', 'August 1, 2018', '1.2.4', '4.0.3 and up']\n",
      "\n",
      "\n",
      "['Sketch - Draw & Paint', 'ART_AND_DESIGN', '4.5', '215644', '25M', '50,000,000+', 'Free', '0', 'Teen', 'Art & Design', 'June 8, 2018', 'Varies with device', '4.2 and up']\n",
      "\n",
      "\n",
      "number of rows:  10842\n",
      "number of columns:  13\n"
     ]
    }
   ],
   "source": [
    "explore_data(google_store_data,0,5)"
   ]
  },
  {
   "cell_type": "markdown",
   "metadata": {},
   "source": [
    "Google play store have 10841 android apps and 13 columns. The columns that will most likely useful to us include 'App','Category','Reviews','Installs','Price','Genres'.\n",
    "\n",
    "### Deleting Wrong Data ( Having Missing Values )"
   ]
  },
  {
   "cell_type": "code",
   "execution_count": 4,
   "metadata": {},
   "outputs": [
    {
     "name": "stdout",
     "output_type": "stream",
     "text": [
      "['Life Made WI-Fi Touchscreen Photo Frame', '1.9', '19', '3.0M', '1,000+', 'Free', '0', 'Everyone', '', 'February 11, 2018', '1.0.19', '4.0 and up']\n",
      "\n",
      "\n"
     ]
    }
   ],
   "source": [
    "# deleting wrong data\n",
    "index_to_be_removed = []\n",
    "for row in google_store_data:\n",
    "    if len(row)!=len(google_store_data[0]):\n",
    "        index = google_store_data.index(row)\n",
    "        print(row)\n",
    "        print('\\n')\n",
    "        index_to_be_removed.append(index)\n",
    "  "
   ]
  },
  {
   "cell_type": "code",
   "execution_count": 5,
   "metadata": {},
   "outputs": [
    {
     "name": "stdout",
     "output_type": "stream",
     "text": [
      "[10473]\n"
     ]
    }
   ],
   "source": [
    "print(index_to_be_removed)"
   ]
  },
  {
   "cell_type": "code",
   "execution_count": 6,
   "metadata": {},
   "outputs": [
    {
     "name": "stdout",
     "output_type": "stream",
     "text": [
      "Index deleted successfully -  10473\n"
     ]
    }
   ],
   "source": [
    "for idx in index_to_be_removed:\n",
    "    del google_store_data[idx]\n",
    "    print(\"Index deleted successfully - \", idx)"
   ]
  },
  {
   "cell_type": "markdown",
   "metadata": {},
   "source": [
    "### Removing Duplicates\n",
    "\n",
    "As we explored the data further found that data contains duplicate rows for the same app, if you see the below cell's output, app name 'Slack' have 3 entries."
   ]
  },
  {
   "cell_type": "code",
   "execution_count": 7,
   "metadata": {},
   "outputs": [
    {
     "name": "stdout",
     "output_type": "stream",
     "text": [
      "['Slack', 'BUSINESS', '4.4', '51507', 'Varies with device', '5,000,000+', 'Free', '0', 'Everyone', 'Business', 'August 2, 2018', 'Varies with device', 'Varies with device']\n",
      "\n",
      "\n",
      "['Slack', 'BUSINESS', '4.4', '51507', 'Varies with device', '5,000,000+', 'Free', '0', 'Everyone', 'Business', 'August 2, 2018', 'Varies with device', 'Varies with device']\n",
      "\n",
      "\n",
      "['Slack', 'BUSINESS', '4.4', '51510', 'Varies with device', '5,000,000+', 'Free', '0', 'Everyone', 'Business', 'August 2, 2018', 'Varies with device', 'Varies with device']\n",
      "\n",
      "\n"
     ]
    }
   ],
   "source": [
    "# printing duplicate rows for an app\n",
    "for row in google_store_data:\n",
    "    if row[0] == 'Slack':\n",
    "        print(row)\n",
    "        print('\\n')\n"
   ]
  },
  {
   "cell_type": "code",
   "execution_count": 8,
   "metadata": {},
   "outputs": [
    {
     "name": "stdout",
     "output_type": "stream",
     "text": [
      "Unique Apps -  9659\n",
      "Duplicate Apps -  1181\n"
     ]
    }
   ],
   "source": [
    "# Count of unique_app rows and duplicate app rows\n",
    "unique_apps = []\n",
    "duplicate_apps = []\n",
    "\n",
    "for row in google_store_data[1:]:\n",
    "    if row[0] in unique_apps:\n",
    "        duplicate_apps.append(row[0])\n",
    "    else:\n",
    "        unique_apps.append(row[0])\n",
    "\n",
    "print(\"Unique Apps - \", len(unique_apps))\n",
    "print(\"Duplicate Apps - \", len(duplicate_apps))"
   ]
  },
  {
   "cell_type": "markdown",
   "metadata": {},
   "source": [
    "Even though there are duplicate rows for the app, there's a catch that \"Rating\" is different for some rows of the same app, which means that our data was captured on differemt timstamps.\n",
    "\n",
    "Higher the rating more latest the data is, so instead of removing random duplicate rows for an app, we will remove the rest and keep the row with the highest number of reviews.\n",
    "\n",
    "To accomplish that, we will need to:\n",
    "\n",
    "- Create a dictionary that has the unique app name as a key and the highest number of reviews of that app as the value. "
   ]
  },
  {
   "cell_type": "code",
   "execution_count": 9,
   "metadata": {},
   "outputs": [
    {
     "name": "stdout",
     "output_type": "stream",
     "text": [
      "9659\n",
      "51510\n"
     ]
    }
   ],
   "source": [
    "# creating a dictionary to store single row for every app.\n",
    "\n",
    "unique_app_data = {}\n",
    "\n",
    "for row in google_store_data[1:]:\n",
    "    app_name = row[0]\n",
    "    ratings = row[3]\n",
    "    if app_name not in unique_app_data:\n",
    "        unique_app_data[app_name] = ratings\n",
    "    else:\n",
    "        if unique_app_data[app_name]< ratings:\n",
    "            unique_app_data[app_name] = ratings\n",
    "\n",
    "print(len(unique_app_data))\n",
    "print(unique_app_data[\"Slack\"])"
   ]
  },
  {
   "cell_type": "markdown",
   "metadata": {},
   "source": [
    "After getting the highest ratings for every unique app.\n",
    "1. Append the entire row to a list that will store latest record of all the apps.\n",
    "2. Append the name of the apps to another list, this will us keep track of the apps that are already added."
   ]
  },
  {
   "cell_type": "code",
   "execution_count": 10,
   "metadata": {},
   "outputs": [
    {
     "name": "stdout",
     "output_type": "stream",
     "text": [
      "9659\n"
     ]
    }
   ],
   "source": [
    "google_store_unique_apps = []\n",
    "already_added = []\n",
    "\n",
    "for row in google_store_data[1:]:\n",
    "    app_ratings = row[3]\n",
    "    app_name = row[0]\n",
    "    if app_name not in already_added and app_ratings == unique_app_data[app_name]:\n",
    "        google_store_unique_apps.append(row)\n",
    "        already_added.append(app_name)\n",
    "\n",
    "print(len(google_store_unique_apps))"
   ]
  },
  {
   "cell_type": "markdown",
   "metadata": {},
   "source": [
    "### Removing Non English Apps\n",
    "\n",
    "To check if an app is english or not we'll create a function that will check if we have a app_name that contains more than 3 non-english characters then it is a non-english app(that we need to remove).\n",
    "\n",
    "A english character is defined if it comes in between the range of 0-127 (upper_range and lower_range inclusive)"
   ]
  },
  {
   "cell_type": "code",
   "execution_count": 11,
   "metadata": {},
   "outputs": [],
   "source": [
    "def is_english(app_name):\n",
    "    count = 0\n",
    "    for ch in app_name:\n",
    "        if ord(ch)>127:\n",
    "            count+=1\n",
    "        if count>3:\n",
    "            return False\n",
    "    \n",
    "    return True\n",
    "\n",
    "# Validating the function on random app_names\n",
    "# app_names = ['Instagram','爱奇艺PPS -《欢乐颂2》电视剧热播','Docs To Go™ Free Office Suite','Instachat 😜']\n",
    "\n",
    "# for app_name in app_names:\n",
    "#     if is_english(app_name):\n",
    "#         print(\"English\")\n",
    "#     else:\n",
    "#         print(\"Non-English\")"
   ]
  },
  {
   "cell_type": "code",
   "execution_count": 12,
   "metadata": {},
   "outputs": [
    {
     "name": "stdout",
     "output_type": "stream",
     "text": [
      "['284882215', 'Facebook', '389879808', 'USD', '0.0', '2974676', '212', '3.5', '3.5', '95.0', '4+', 'Social Networking', '37', '1', '29', '1']\n",
      "\n",
      "\n",
      "['389801252', 'Instagram', '113954816', 'USD', '0.0', '2161558', '1289', '4.5', '4.0', '10.23', '12+', 'Photo & Video', '37', '0', '29', '1']\n",
      "\n",
      "\n",
      "['529479190', 'Clash of Clans', '116476928', 'USD', '0.0', '2130805', '579', '4.5', '4.5', '9.24.12', '9+', 'Games', '38', '5', '18', '1']\n",
      "\n",
      "\n",
      "number of rows:  6183\n",
      "number of columns:  16\n"
     ]
    }
   ],
   "source": [
    "# Removing non-english apps from AppStore dataset\n",
    "app_store_non_eng_df = []\n",
    "\n",
    "for row in app_store_data[1:]:\n",
    "    if is_english(row[1]):\n",
    "        app_store_non_eng_df.append(row)\n",
    "        \n",
    "explore_data(app_store_non_eng_df, 0,3)"
   ]
  },
  {
   "cell_type": "code",
   "execution_count": 13,
   "metadata": {},
   "outputs": [
    {
     "name": "stdout",
     "output_type": "stream",
     "text": [
      "['Photo Editor & Candy Camera & Grid & ScrapBook', 'ART_AND_DESIGN', '4.1', '159', '19M', '10,000+', 'Free', '0', 'Everyone', 'Art & Design', 'January 7, 2018', '1.0.0', '4.0.3 and up']\n",
      "\n",
      "\n",
      "['U Launcher Lite – FREE Live Cool Themes, Hide Apps', 'ART_AND_DESIGN', '4.7', '87510', '8.7M', '5,000,000+', 'Free', '0', 'Everyone', 'Art & Design', 'August 1, 2018', '1.2.4', '4.0.3 and up']\n",
      "\n",
      "\n",
      "['Sketch - Draw & Paint', 'ART_AND_DESIGN', '4.5', '215644', '25M', '50,000,000+', 'Free', '0', 'Teen', 'Art & Design', 'June 8, 2018', 'Varies with device', '4.2 and up']\n",
      "\n",
      "\n",
      "number of rows:  9614\n",
      "number of columns:  13\n"
     ]
    }
   ],
   "source": [
    "# removing non-english apps from google_store_unique_apps\n",
    "\n",
    "google_store_non_eng_df = []\n",
    "\n",
    "for row in google_store_unique_apps:\n",
    "    if is_english(row[0]):\n",
    "        google_store_non_eng_df.append(row)\n",
    "\n",
    "explore_data(google_store_non_eng_df, 0,3)"
   ]
  },
  {
   "cell_type": "markdown",
   "metadata": {},
   "source": [
    "We have 6183 apps left in the app store dataset and 9614 apps left in the google play store dataset.\n",
    "\n",
    "### Isolating the Free Apps"
   ]
  },
  {
   "cell_type": "code",
   "execution_count": 14,
   "metadata": {},
   "outputs": [
    {
     "name": "stdout",
     "output_type": "stream",
     "text": [
      "3222\n",
      "8862\n"
     ]
    }
   ],
   "source": [
    "# Removing Non-Free Apps from each dataset\n",
    "\n",
    "app_store_free_apps = []\n",
    "\n",
    "for row in app_store_non_eng_df:\n",
    "    app_price = row[4]\n",
    "    if app_price == '0' or app_price == '0.0' or app_price == '$0.00':\n",
    "        app_store_free_apps.append(row)\n",
    "\n",
    "        \n",
    "google_store_free_apps = []\n",
    "\n",
    "for row in google_store_non_eng_df:\n",
    "    app_price = row[7]\n",
    "    if app_price == '0' or app_price == '0.0' or app_price == '$0.00':\n",
    "        google_store_free_apps.append(row)\n",
    "\n",
    "print(len(app_store_free_apps))\n",
    "print(len(google_store_free_apps))"
   ]
  },
  {
   "cell_type": "markdown",
   "metadata": {},
   "source": [
    "After isolating the free apps, we have 3222 apps left in the App Store dataset and 8862 apps in the Google Play Store dataset.\n",
    "\n",
    "\n",
    "We are analysing the data on the basis of company generating revenue from in-app ads, so we need to make sure that the apps are most liked by the users.\n",
    "\n",
    "Our end goal is to add the app on both Google Play and the App Store, we need to find app profiles that are successful in both markets.\n",
    "\n",
    "Our validation strategy for building a app will be:-\n",
    "1. Build a minimal version of the app, add it to the \"Google Play Store\".\n",
    "2. If the app has a good response from users, we develop it further.\n",
    "3. If the app is profitable after six months, we build an iOS version of the app and add it to the App Store."
   ]
  },
  {
   "cell_type": "code",
   "execution_count": 15,
   "metadata": {},
   "outputs": [],
   "source": [
    "# Helper Function to get count(frequency) of apps build in each genre/category.\n",
    "def freq_table(dataset, index):\n",
    "    freq_dict = {}\n",
    "    total = 0\n",
    "    \n",
    "    for row in dataset:\n",
    "        total += 1\n",
    "        genre = row[index]\n",
    "        \n",
    "        if genre in freq_dict:\n",
    "            freq_dict[genre] = freq_dict[genre] + 1\n",
    "        else:\n",
    "            freq_dict[genre] = 1\n",
    "            \n",
    "    percentage_freq = {}\n",
    "    for key in freq_dict:\n",
    "        percentage = (freq_dict[key] / total) * 100\n",
    "        percentage_freq[key] = percentage\n",
    "    return percentage_freq"
   ]
  },
  {
   "cell_type": "code",
   "execution_count": 16,
   "metadata": {},
   "outputs": [
    {
     "data": {
      "text/plain": [
       "{'Social Networking': 3.2898820608317814,\n",
       " 'Photo & Video': 4.9658597144630665,\n",
       " 'Games': 58.16263190564867,\n",
       " 'Music': 2.0484171322160147,\n",
       " 'Reference': 0.5586592178770949,\n",
       " 'Health & Fitness': 2.0173805090006205,\n",
       " 'Weather': 0.8690254500310366,\n",
       " 'Utilities': 2.5139664804469275,\n",
       " 'Travel': 1.2414649286157666,\n",
       " 'Shopping': 2.60707635009311,\n",
       " 'News': 1.3345747982619491,\n",
       " 'Navigation': 0.186219739292365,\n",
       " 'Lifestyle': 1.5828677839851024,\n",
       " 'Entertainment': 7.883302296710118,\n",
       " 'Food & Drink': 0.8069522036002483,\n",
       " 'Sports': 2.1415270018621975,\n",
       " 'Book': 0.4345127250155183,\n",
       " 'Finance': 1.1173184357541899,\n",
       " 'Education': 3.662321539416512,\n",
       " 'Productivity': 1.7380509000620732,\n",
       " 'Business': 0.5276225946617008,\n",
       " 'Catalogs': 0.12414649286157665,\n",
       " 'Medical': 0.186219739292365}"
      ]
     },
     "execution_count": 16,
     "metadata": {},
     "output_type": "execute_result"
    }
   ],
   "source": [
    "app_store_genre_freq = freq_table(app_store_free_apps,11)\n",
    "google_store_genre_freq = freq_table(google_store_free_apps,1)\n",
    "google_store_cat_freq = freq_table(google_store_free_apps,9)\n",
    "app_store_genre_freq"
   ]
  },
  {
   "cell_type": "code",
   "execution_count": 17,
   "metadata": {},
   "outputs": [],
   "source": [
    "def display_table(dataset, index):\n",
    "    table = freq_table(dataset, index)\n",
    "    table_display = []\n",
    "    for key in table:\n",
    "        key_val_as_tuple = (table[key], key)\n",
    "        table_display.append(key_val_as_tuple)\n",
    "\n",
    "    table_sorted = sorted(table_display, reverse = True)\n",
    "    for entry in table_sorted:\n",
    "        print(entry[1], ':', entry[0])"
   ]
  },
  {
   "cell_type": "code",
   "execution_count": 18,
   "metadata": {},
   "outputs": [
    {
     "name": "stdout",
     "output_type": "stream",
     "text": [
      "Games : 58.16263190564867\n",
      "Entertainment : 7.883302296710118\n",
      "Photo & Video : 4.9658597144630665\n",
      "Education : 3.662321539416512\n",
      "Social Networking : 3.2898820608317814\n",
      "Shopping : 2.60707635009311\n",
      "Utilities : 2.5139664804469275\n",
      "Sports : 2.1415270018621975\n",
      "Music : 2.0484171322160147\n",
      "Health & Fitness : 2.0173805090006205\n",
      "Productivity : 1.7380509000620732\n",
      "Lifestyle : 1.5828677839851024\n",
      "News : 1.3345747982619491\n",
      "Travel : 1.2414649286157666\n",
      "Finance : 1.1173184357541899\n",
      "Weather : 0.8690254500310366\n",
      "Food & Drink : 0.8069522036002483\n",
      "Reference : 0.5586592178770949\n",
      "Business : 0.5276225946617008\n",
      "Book : 0.4345127250155183\n",
      "Navigation : 0.186219739292365\n",
      "Medical : 0.186219739292365\n",
      "Catalogs : 0.12414649286157665\n"
     ]
    }
   ],
   "source": [
    "display_table(app_store_free_apps,11)"
   ]
  },
  {
   "cell_type": "markdown",
   "metadata": {},
   "source": [
    "### App Store\n",
    "\n",
    "When we analyse the pattern of these apps, we see that the most common genre is Games (58.16%), more than half of the ps belongs to the Games genre. Entertainment is the second most common genre(7.88%), followed by Photo & Video (4.96%), and Education(3.66%).\n",
    "\n",
    "We can deduce that most of the apps are designed for fun (games, photo and video, social networking, sports, music),  while the apps for pratical purposes (education, shopping, utilities, productivity, lifestyle) are fewer.\n",
    "\n",
    "Though the fun apps are more in number, we cannot recommend an app profile for the App Store market based on this alone. Having a large number of apps does not translate into having a large number of users. We need more information to give a proper recommendation. "
   ]
  },
  {
   "cell_type": "code",
   "execution_count": 19,
   "metadata": {},
   "outputs": [
    {
     "name": "stdout",
     "output_type": "stream",
     "text": [
      "FAMILY : 18.934777702550214\n",
      "GAME : 9.693071541412774\n",
      "TOOLS : 8.451816745655607\n",
      "BUSINESS : 4.5926427443015125\n",
      "LIFESTYLE : 3.9043105393816293\n",
      "PRODUCTIVITY : 3.8930264048747465\n",
      "FINANCE : 3.7011961182577298\n",
      "MEDICAL : 3.5206499661475967\n",
      "SPORTS : 3.39652448657188\n",
      "PERSONALIZATION : 3.3175355450236967\n",
      "COMMUNICATION : 3.238546603475513\n",
      "HEALTH_AND_FITNESS : 3.080568720379147\n",
      "PHOTOGRAPHY : 2.945159106296547\n",
      "NEWS_AND_MAGAZINES : 2.798465357707064\n",
      "SOCIAL : 2.663055743624464\n",
      "TRAVEL_AND_LOCAL : 2.335815842924848\n",
      "SHOPPING : 2.2455427668697814\n",
      "BOOKS_AND_REFERENCE : 2.143985556307831\n",
      "DATING : 1.8618821936357481\n",
      "VIDEO_PLAYERS : 1.7941773865944481\n",
      "MAPS_AND_NAVIGATION : 1.399232678853532\n",
      "FOOD_AND_DRINK : 1.2412547957571656\n",
      "EDUCATION : 1.1735499887158656\n",
      "ENTERTAINMENT : 0.9591514330850823\n",
      "LIBRARIES_AND_DEMO : 0.9365831640713158\n",
      "AUTO_AND_VEHICLES : 0.9252990295644324\n",
      "HOUSE_AND_HOME : 0.8237418190024826\n",
      "WEATHER : 0.8011735499887158\n",
      "EVENTS : 0.7109004739336493\n",
      "PARENTING : 0.6544798013992327\n",
      "ART_AND_DESIGN : 0.6431956668923494\n",
      "COMICS : 0.6206273978785828\n",
      "BEAUTY : 0.598059128864816\n"
     ]
    }
   ],
   "source": [
    "display_table(google_store_free_apps,1)"
   ]
  },
  {
   "cell_type": "markdown",
   "metadata": {},
   "source": [
    "### Google Store Category\n",
    "\n",
    "The most common category is Family (18.91%). Games is the second most common (9.70%), followed by Tools (8.46%) and Business (4.59%). From the above, We can see that there are more apps for practical purposes than those for fun. \n",
    "\n",
    "\n",
    "Here we see the pattern that most of the apps are of practical type - Tools, Business, Finance, Productivity,etc. Here the apps are in balanced landscape.\n",
    "We cannot recommend an App Profile just by looking at the count of the apps built."
   ]
  },
  {
   "cell_type": "markdown",
   "metadata": {},
   "source": [
    "### Understanding - \n",
    "The frequency table that we analyze shows that apps designed for fun dominate the App Store, whereas Google Play Store is more balanced landscape of both practical and fun apps."
   ]
  },
  {
   "cell_type": "markdown",
   "metadata": {},
   "source": [
    "### Most Popular Apps by Genre on the App Store\n",
    "\n",
    "We can find out the most popular genre by calculating the average number of installs for each app genre. We will take the total number of user ratings as a proxy, which we can find in the rating_count_tot column of AppStore dataset"
   ]
  },
  {
   "cell_type": "code",
   "execution_count": 20,
   "metadata": {},
   "outputs": [
    {
     "name": "stdout",
     "output_type": "stream",
     "text": [
      "Social Networking : 71548.34905660378 : 7584125.0\n",
      "Photo & Video : 28441.54375 : 4550647.0\n",
      "Games : 22788.6696905016 : 42705967.0\n",
      "Music : 57326.530303030304 : 3783551.0\n",
      "Reference : 74942.11111111111 : 1348958.0\n",
      "Health & Fitness : 23298.015384615384 : 1514371.0\n",
      "Weather : 52279.892857142855 : 1463837.0\n",
      "Utilities : 18684.456790123455 : 1513441.0\n",
      "Travel : 28243.8 : 1129752.0\n",
      "Shopping : 26919.690476190477 : 2261254.0\n",
      "News : 21248.023255813954 : 913665.0\n",
      "Navigation : 86090.33333333333 : 516542.0\n",
      "Lifestyle : 16485.764705882353 : 840774.0\n",
      "Entertainment : 14029.830708661417 : 3563577.0\n",
      "Food & Drink : 33333.92307692308 : 866682.0\n",
      "Sports : 23008.898550724636 : 1587614.0\n",
      "Book : 39758.5 : 556619.0\n",
      "Finance : 31467.944444444445 : 1132846.0\n",
      "Education : 7003.983050847458 : 826470.0\n",
      "Productivity : 21028.410714285714 : 1177591.0\n",
      "Business : 7491.117647058823 : 127349.0\n",
      "Catalogs : 4004.0 : 16016.0\n",
      "Medical : 612.0 : 3672.0\n"
     ]
    }
   ],
   "source": [
    "# Let's determine the app kinds with most users.\n",
    "\n",
    "for row in app_store_genre_freq:\n",
    "    prime_genre = row\n",
    "    count_of_users = 0\n",
    "    gen_len = 0\n",
    "    for row in app_store_free_apps:\n",
    "        genre = row[11]\n",
    "        if genre == prime_genre:\n",
    "            gen_len += 1\n",
    "            count_of_users += float(row[5])\n",
    "    \n",
    "    avg_rating = count_of_users/gen_len\n",
    "    print(prime_genre, ':' , avg_rating, ':' , count_of_users)"
   ]
  },
  {
   "cell_type": "markdown",
   "metadata": {},
   "source": [
    "Apps under the 'Navigation' genre have the highest number of reviews. followed by Reference, Social Networking, Music and Weather. \n",
    "\n",
    "Let's take a closer look into the apps under Navigation"
   ]
  },
  {
   "cell_type": "code",
   "execution_count": 21,
   "metadata": {},
   "outputs": [
    {
     "name": "stdout",
     "output_type": "stream",
     "text": [
      "Waze - GPS Navigation, Maps & Real-time Traffic : 345046\n",
      "Google Maps - Navigation & Transit : 154911\n",
      "Geocaching® : 12811\n",
      "CoPilot GPS – Car Navigation & Offline Maps : 3582\n",
      "ImmobilienScout24: Real Estate Search in Germany : 187\n",
      "Railway Route Search : 5\n"
     ]
    }
   ],
   "source": [
    "for app in app_store_free_apps:\n",
    "    if app[11] == 'Navigation':\n",
    "        print(app[1], ':', app[5])"
   ]
  },
  {
   "cell_type": "markdown",
   "metadata": {},
   "source": [
    "Here, we see that Navigation is mostly dominated by Waze and Google Maps aaps, Though navigation has a small audience, it stands out in user satisfaction. Let's check the distribution of 'Reference' apps."
   ]
  },
  {
   "cell_type": "code",
   "execution_count": 22,
   "metadata": {},
   "outputs": [
    {
     "name": "stdout",
     "output_type": "stream",
     "text": [
      "Bible : 985920\n",
      "Dictionary.com Dictionary & Thesaurus : 200047\n",
      "Dictionary.com Dictionary & Thesaurus for iPad : 54175\n",
      "Google Translate : 26786\n",
      "Muslim Pro: Ramadan 2017 Prayer Times, Azan, Quran : 18418\n",
      "New Furniture Mods - Pocket Wiki & Game Tools for Minecraft PC Edition : 17588\n",
      "Merriam-Webster Dictionary : 16849\n",
      "Night Sky : 12122\n",
      "City Maps for Minecraft PE - The Best Maps for Minecraft Pocket Edition (MCPE) : 8535\n",
      "LUCKY BLOCK MOD ™ for Minecraft PC Edition - The Best Pocket Wiki & Mods Installer Tools : 4693\n",
      "GUNS MODS for Minecraft PC Edition - Mods Tools : 1497\n",
      "Guides for Pokémon GO - Pokemon GO News and Cheats : 826\n",
      "WWDC : 762\n",
      "Horror Maps for Minecraft PE - Download The Scariest Maps for Minecraft Pocket Edition (MCPE) Free : 718\n",
      "VPN Express : 14\n",
      "Real Bike Traffic Rider Virtual Reality Glasses : 8\n",
      "教えて!goo : 0\n",
      "Jishokun-Japanese English Dictionary & Translator : 0\n"
     ]
    }
   ],
   "source": [
    "for app in app_store_free_apps:\n",
    "    if app[11] == 'Reference':\n",
    "        print(app[1], ':', app[5])"
   ]
  },
  {
   "cell_type": "markdown",
   "metadata": {},
   "source": [
    "Bible and Dictionary apps skew up the ratings of the 'Reference' genre, the distribution of the other apps doesn't come close. Let's check the 'Social Networking' genre and compare."
   ]
  },
  {
   "cell_type": "code",
   "execution_count": 23,
   "metadata": {},
   "outputs": [
    {
     "name": "stdout",
     "output_type": "stream",
     "text": [
      "Facebook : 2974676\n",
      "Pinterest : 1061624\n",
      "Skype for iPhone : 373519\n",
      "Messenger : 351466\n",
      "Tumblr : 334293\n",
      "WhatsApp Messenger : 287589\n",
      "Kik : 260965\n",
      "ooVoo – Free Video Call, Text and Voice : 177501\n",
      "TextNow - Unlimited Text + Calls : 164963\n",
      "Viber Messenger – Text & Call : 164249\n",
      "Followers - Social Analytics For Instagram : 112778\n",
      "MeetMe - Chat and Meet New People : 97072\n",
      "We Heart It - Fashion, wallpapers, quotes, tattoos : 90414\n",
      "InsTrack for Instagram - Analytics Plus More : 85535\n",
      "Tango - Free Video Call, Voice and Chat : 75412\n",
      "LinkedIn : 71856\n",
      "Match™ - #1 Dating App. : 60659\n",
      "Skype for iPad : 60163\n",
      "POF - Best Dating App for Conversations : 52642\n",
      "Timehop : 49510\n"
     ]
    }
   ],
   "source": [
    "top_20_social_apps = []\n",
    "count = 0\n",
    "for app in app_store_free_apps:\n",
    "    if app[11] == 'Social Networking':\n",
    "        if count <20:\n",
    "            count+=1\n",
    "            top_20_social_apps.append(app)\n",
    "\n",
    "for app in top_20_social_apps:\n",
    "    print(app[1], ':', app[5])"
   ]
  },
  {
   "cell_type": "markdown",
   "metadata": {},
   "source": [
    "Social Networking strikes a balance between popularity and satisfaction. It comes at the 2nd place in most popular genres and 3rd place in highest average ratings. However it is a difficult genre to compete as their are giants dominating this category. Let's check anyother genre."
   ]
  },
  {
   "cell_type": "code",
   "execution_count": 24,
   "metadata": {},
   "outputs": [
    {
     "name": "stdout",
     "output_type": "stream",
     "text": [
      "Pandora - Music & Radio : 1126879\n",
      "Spotify Music : 878563\n",
      "Shazam - Discover music, artists, videos & lyrics : 402925\n",
      "iHeartRadio – Free Music & Radio Stations : 293228\n",
      "SoundCloud - Music & Audio : 135744\n",
      "Magic Piano by Smule : 131695\n",
      "Smule Sing! : 119316\n",
      "TuneIn Radio - MLB NBA Audiobooks Podcasts Music : 110420\n",
      "Amazon Music : 106235\n",
      "SoundHound Song Search & Music Player : 82602\n",
      "Sonos Controller : 48905\n",
      "Bandsintown Concerts : 30845\n",
      "Karaoke - Sing Karaoke, Unlimited Songs! : 28606\n",
      "My Mixtapez Music : 26286\n",
      "Sing Karaoke Songs Unlimited with StarMaker : 26227\n",
      "Ringtones for iPhone & Ringtone Maker : 25403\n",
      "Musi - Unlimited Music For YouTube : 25193\n",
      "AutoRap by Smule : 18202\n",
      "Spinrilla - Mixtapes For Free : 15053\n",
      "Napster - Top Music & Radio : 14268\n",
      "edjing Mix:DJ turntable to remix and scratch music : 13580\n",
      "Free Music - MP3 Streamer & Playlist Manager Pro : 13443\n",
      "Free Piano app by Yokee : 13016\n",
      "Google Play Music : 10118\n",
      "Certified Mixtapes - Hip Hop Albums & Mixtapes : 9975\n",
      "TIDAL : 7398\n",
      "YouTube Music : 7109\n",
      "Nicki Minaj: The Empire : 5196\n",
      "Sounds app - Music And Friends : 5126\n",
      "SongFlip - Free Music Streamer : 5004\n",
      "Simple Radio - Live AM & FM Radio Stations : 4787\n",
      "Deezer - Listen to your Favorite Music & Playlists : 4677\n",
      "Ringtones for iPhone with Ringtone Maker : 4013\n",
      "Bose SoundTouch : 3687\n",
      "Amazon Alexa : 3018\n",
      "DatPiff : 2815\n",
      "Trebel Music - Unlimited Music Downloader : 2570\n",
      "Free Music Play - Mp3 Streamer & Player : 2496\n",
      "Acapella from PicPlayPost : 2487\n",
      "Coach Guitar - Lessons & Easy Tabs For Beginners : 2416\n",
      "Musicloud - MP3 and FLAC Music Player for Cloud Platforms. : 2211\n",
      "Piano - Play Keyboard Music Games with Magic Tiles : 1636\n",
      "Boom: Best Equalizer & Magical Surround Sound : 1375\n",
      "Music Freedom - Unlimited Free MP3 Music Streaming : 1246\n",
      "AmpMe - A Portable Social Party Music Speaker : 1047\n",
      "Medly - Music Maker : 933\n",
      "Bose Connect : 915\n",
      "Music Memos : 909\n",
      "UE BOOM : 612\n",
      "LiveMixtapes : 555\n",
      "NOISE : 355\n",
      "MP3 Music Player & Streamer for Clouds : 329\n",
      "Musical Video Maker - Create Music clips lip sync : 320\n",
      "Cloud Music Player - Downloader & Playlist Manager : 319\n",
      "Remixlive - Remix loops with pads : 288\n",
      "QQ音乐HD : 224\n",
      "Blocs Wave - Make & Record Music : 158\n",
      "PlayGround • Music At Your Fingertips : 150\n",
      "Music and Chill : 135\n",
      "The Singing Machine Mobile Karaoke App : 130\n",
      "radio.de - Der Radioplayer : 64\n",
      "Free Music -  Player & Streamer  for Dropbox, OneDrive & Google Drive : 46\n",
      "NRJ Radio : 38\n",
      "Smart Music: Streaming Videos and Radio : 17\n",
      "BOSS Tuner : 13\n",
      "PetitLyrics : 0\n"
     ]
    }
   ],
   "source": [
    "for app in app_store_free_apps:\n",
    "    if app[11] == 'Music':\n",
    "        print(app[1], ':', app[5])"
   ]
  },
  {
   "cell_type": "code",
   "execution_count": 25,
   "metadata": {},
   "outputs": [
    {
     "name": "stdout",
     "output_type": "stream",
     "text": [
      "Kindle – Read eBooks, Magazines & Textbooks : 252076\n",
      "Audible – audio books, original series & podcasts : 105274\n",
      "Color Therapy Adult Coloring Book for Adults : 84062\n",
      "OverDrive – Library eBooks and Audiobooks : 65450\n",
      "HOOKED - Chat Stories : 47829\n",
      "BookShout: Read eBooks & Track Your Reading Goals : 879\n",
      "Dr. Seuss Treasury — 50 best kids books : 451\n",
      "Green Riding Hood : 392\n",
      "Weirdwood Manor : 197\n",
      "MangaZERO - comic reader : 9\n",
      "ikouhoushi : 0\n",
      "MangaTiara - love comic reader : 0\n",
      "謎解き : 0\n",
      "謎解き2016 : 0\n"
     ]
    }
   ],
   "source": [
    "for app in app_store_free_apps:\n",
    "    if app[11] == 'Book':\n",
    "        print(app[1], ':', app[5])"
   ]
  },
  {
   "cell_type": "code",
   "execution_count": 26,
   "metadata": {},
   "outputs": [
    {
     "name": "stdout",
     "output_type": "stream",
     "text": [
      "{'Social Networking': 5, 'Photo & Video': 2, 'Games': 29, 'Music': 3, 'Reference': 1, 'Health & Fitness': 2, 'Weather': 1, 'Utilities': 1, 'Travel': 1, 'Shopping': 1, 'News': 1, 'Navigation': 1, 'Lifestyle': 1, 'Entertainment': 1, 'Food & Drink': 1}\n"
     ]
    }
   ],
   "source": [
    "high_rating = []\n",
    "app_ratings = {}\n",
    "\n",
    "for app in app_store_free_apps:\n",
    "    rating = float(app[5])\n",
    "    \n",
    "    if rating >= 300000:\n",
    "        high_rating.append(app)\n",
    "        \n",
    "        for app in high_rating:\n",
    "            apps_rating = [app[1],app[5],app[11]]\n",
    "        \n",
    "        genre = apps_rating[2]\n",
    "        if genre in app_ratings:\n",
    "            app_ratings[genre] += 1\n",
    "        else:\n",
    "            app_ratings[genre] = 1\n",
    "\n",
    "print(app_ratings)\n",
    "        "
   ]
  },
  {
   "cell_type": "markdown",
   "metadata": {},
   "source": [
    "After checking the representation of apps with ratings above 300000, the Health & Fitness genre seems to have some potential. There are not too many apps in the genre compared to Games and Socail Networking, yet it has two appearances in the top apps with ratings above 300000. \n",
    "Let's take a closer look at the Health & Fitness genre. "
   ]
  },
  {
   "cell_type": "code",
   "execution_count": 27,
   "metadata": {},
   "outputs": [
    {
     "name": "stdout",
     "output_type": "stream",
     "text": [
      "Calorie Counter & Diet Tracker by MyFitnessPal : 507706\n",
      "Lose It! – Weight Loss Program and Calorie Counter : 373835\n",
      "Weight Watchers : 136833\n",
      "Sleep Cycle alarm clock : 104539\n",
      "Fitbit : 90496\n",
      "Period Tracker Lite : 53620\n",
      "Nike+ Training Club - Workouts & Fitness Plans : 33969\n",
      "Plant Nanny - Water Reminder with Cute Plants : 27421\n",
      "Sworkit - Custom Workouts for Exercise & Fitness : 16819\n",
      "Clue Period Tracker: Period & Ovulation Tracker : 13436\n",
      "Headspace : 12819\n",
      "Fooducate - Lose Weight, Eat Healthy,Get Motivated : 11875\n",
      "Runtastic Running, Jogging and Walking Tracker : 10298\n",
      "WebMD for iPad : 9142\n",
      "8fit - Workouts, meal plans and personal trainer : 8730\n",
      "Garmin Connect™ Mobile : 8341\n",
      "Record by Under Armour, connects with UA HealthBox : 7754\n",
      "Fitstar Personal Trainer : 7496\n",
      "My Cycles Period and Ovulation Tracker : 7469\n",
      "Seven - 7 Minute Workout Training Challenge : 6808\n",
      "RUNNING for weight loss: workout & meal plans : 6407\n",
      "Lifesum – Inspiring healthy lifestyle app : 5795\n",
      "Waterlogged - Daily Hydration Tracker : 5000\n",
      "J&J Official 7 Minute Workout : 4861\n",
      "Fitbod Workout Log: Strength Lifting Bodybuilding : 4668\n",
      "Runtastic Six Pack Abs Workout & Core Trainer : 4283\n",
      "Sweat: Kayla Itsines' Bikini Body Fitness Workouts : 3788\n",
      "Smart Alarm Clock : sleep cycle & snoring recorder : 3779\n",
      "My Challenge Tracker : 3682\n",
      "Charity Miles: Walking & Running Distance Tracker : 3115\n",
      "Ab & Core Sworkit - Free Workout Trainer : 2901\n",
      "Simple Habit : 2494\n",
      "Asana Rebel - Yoga Inspired Fitness : 2459\n",
      "Life Cycle - Track Your Time Automatically : 1760\n",
      "Freeletics Bodyweight - Workouts and Training : 1722\n",
      "Runtastic Results: Workout & Bodyweight Training : 1718\n",
      "My Water Balance: Daily Drink Tracker & Reminder : 1601\n",
      "Butt Sworkit - Free Workout Trainer to tone & lift : 960\n",
      "My Score Plus Weight Loss, Food & Exercise Tracker : 467\n",
      "Sleep Meister - Sleep Cycle Alarm Lite : 445\n",
      "Walk for a Dog : 412\n",
      "Quick Fit - 7 Minute Workout, Abs, and Yoga : 407\n",
      "Fit Girls Guide : 397\n",
      "Walking for Weight Loss: training plans, GPS, tips : 397\n",
      "Zen : 298\n",
      "Model My Diet - Women - Weight Loss Motivation : 236\n",
      "Runtastic Butt Workout & Booty Trainer Plans : 222\n",
      "Dot - A Period & Fertility Tracker : 142\n",
      "YAZIO – Calorie Counter & Nutrition Tracker : 115\n",
      "SmartFit - Wristband : 105\n",
      "Dr. Oz : 99\n",
      "Crane Connect : 94\n",
      "Morning Routine : Daily Habit Tracker : 40\n",
      "Wellbeyond Meditation for Kids : 36\n",
      "SenseSleep - Train Your Brain To Sleep Better : 22\n",
      "Snail Sleep-Dream Talk Recording : 19\n",
      "ameli, l'Assurance Maladie : 8\n",
      "VIBO RealMassager : 6\n",
      "FizzUp – Online Fitness Trainer : 5\n",
      "2Face Fitpack - Dein Trainingsprogramm mit persönlichem Ernährungsplan, Kalorienrechner und Trainingsplan : 0\n",
      "GYMONDO – Fitness Training für Zuhause : 0\n",
      "Superdrug : 0\n",
      "airweave sleep analysis : 0\n",
      "Sonia Tlev : 0\n",
      "Intuition Guidances : 0\n"
     ]
    }
   ],
   "source": [
    "for app in app_store_free_apps:\n",
    "    if app[11] == 'Health & Fitness':\n",
    "        print(app[1], ':', app[5]) "
   ]
  },
  {
   "cell_type": "markdown",
   "metadata": {},
   "source": [
    "The Health & Fitness Category is not over saturated and has potential as there is an increased growth in personal wellness, fitness tracking, mental health. Our engineers can create a niche app targetting a particular segment and revenue can be generated from subscriptions and in.app purchases. \n",
    "\n",
    "Now let's analyse the Google Play Store dataset "
   ]
  },
  {
   "cell_type": "markdown",
   "metadata": {},
   "source": [
    "### Most Popular Apps by Genre on Google Play Store"
   ]
  },
  {
   "cell_type": "code",
   "execution_count": 29,
   "metadata": {},
   "outputs": [
    {
     "data": {
      "text/plain": [
       "{'ART_AND_DESIGN': 1986335.0877192982,\n",
       " 'AUTO_AND_VEHICLES': 647317.8170731707,\n",
       " 'BEAUTY': 513151.88679245283,\n",
       " 'BOOKS_AND_REFERENCE': 8767811.894736841,\n",
       " 'BUSINESS': 1712290.1474201474,\n",
       " 'COMICS': 817657.2727272727,\n",
       " 'COMMUNICATION': 38456119.167247385,\n",
       " 'DATING': 854028.8303030303,\n",
       " 'EDUCATION': 1820673.076923077,\n",
       " 'ENTERTAINMENT': 11640705.88235294,\n",
       " 'EVENTS': 253542.22222222222,\n",
       " 'FINANCE': 1387692.475609756,\n",
       " 'FOOD_AND_DRINK': 1924897.7363636363,\n",
       " 'HEALTH_AND_FITNESS': 4188821.9853479853,\n",
       " 'HOUSE_AND_HOME': 1331540.5616438356,\n",
       " 'LIBRARIES_AND_DEMO': 638503.734939759,\n",
       " 'LIFESTYLE': 1437816.2687861272,\n",
       " 'GAME': 15560965.599534342,\n",
       " 'FAMILY': 3694276.334922527,\n",
       " 'MEDICAL': 120616.48717948717,\n",
       " 'SOCIAL': 23253652.127118643,\n",
       " 'SHOPPING': 7036877.311557789,\n",
       " 'PHOTOGRAPHY': 17805627.643678162,\n",
       " 'SPORTS': 3638640.1428571427,\n",
       " 'TRAVEL_AND_LOCAL': 13984077.710144928,\n",
       " 'TOOLS': 10682301.033377837,\n",
       " 'PERSONALIZATION': 5201482.6122448975,\n",
       " 'PRODUCTIVITY': 16787331.344927534,\n",
       " 'PARENTING': 542603.6206896552,\n",
       " 'WEATHER': 5074486.197183099,\n",
       " 'VIDEO_PLAYERS': 24727872.452830188,\n",
       " 'NEWS_AND_MAGAZINES': 9549178.467741935,\n",
       " 'MAPS_AND_NAVIGATION': 4056941.7741935486}"
      ]
     },
     "execution_count": 29,
     "metadata": {},
     "output_type": "execute_result"
    }
   ],
   "source": [
    "google_store_cat_users = {}\n",
    "\n",
    "for row in google_store_genre_freq:\n",
    "    cat_name = row\n",
    "    count_of_users = 0\n",
    "    cat_len = 0\n",
    "    for row in google_store_free_apps:\n",
    "        cat = row[1]\n",
    "        ratings = row[5]\n",
    "        if cat == cat_name:\n",
    "            replaced_plus_icon = ratings.replace('+','')\n",
    "            formatted_rating = float(replaced_plus_icon.replace(',',''))\n",
    "            count_of_users += formatted_rating\n",
    "            cat_len += 1\n",
    "    \n",
    "    google_store_cat_users[cat_name] = count_of_users/cat_len\n",
    "\n",
    "google_store_cat_users"
   ]
  },
  {
   "cell_type": "markdown",
   "metadata": {},
   "source": [
    "Using the average, the communications category has the most installs with an average of 38,456,119. It is heavily skewed by apps that are hard to compete against like the Social Networking category in the App Store dataset. We can see that Whatsapp has over a billion installs. "
   ]
  },
  {
   "cell_type": "code",
   "execution_count": 33,
   "metadata": {},
   "outputs": [
    {
     "name": "stdout",
     "output_type": "stream",
     "text": [
      "WhatsApp Messenger : 1,000,000,000+\n",
      "imo beta free calls and text : 100,000,000+\n",
      "Android Messages : 100,000,000+\n",
      "Google Duo - High Quality Video Calls : 500,000,000+\n",
      "Messenger – Text and Video Chat for Free : 1,000,000,000+\n",
      "imo free video calls and chat : 500,000,000+\n",
      "Skype - free IM & video calls : 1,000,000,000+\n",
      "Who : 100,000,000+\n",
      "GO SMS Pro - Messenger, Free Themes, Emoji : 100,000,000+\n",
      "LINE: Free Calls & Messages : 500,000,000+\n",
      "Google Chrome: Fast & Secure : 1,000,000,000+\n",
      "Firefox Browser fast & private : 100,000,000+\n",
      "UC Browser - Fast Download Private & Secure : 500,000,000+\n",
      "Gmail : 1,000,000,000+\n",
      "Hangouts : 1,000,000,000+\n",
      "Messenger Lite: Free Calls & Messages : 100,000,000+\n",
      "Kik : 100,000,000+\n",
      "KakaoTalk: Free Calls & Text : 100,000,000+\n",
      "Opera Mini - fast web browser : 100,000,000+\n",
      "Opera Browser: Fast and Secure : 100,000,000+\n",
      "Telegram : 100,000,000+\n",
      "Truecaller: Caller ID, SMS spam blocking & Dialer : 100,000,000+\n",
      "UC Browser Mini -Tiny Fast Private & Secure : 100,000,000+\n",
      "Viber Messenger : 500,000,000+\n",
      "WeChat : 100,000,000+\n",
      "Yahoo Mail – Stay Organized : 100,000,000+\n",
      "BBM - Free Calls & Messages : 100,000,000+\n"
     ]
    }
   ],
   "source": [
    "for app in google_store_free_apps:\n",
    "     if app[1] == 'COMMUNICATION' and (app[5] == '1,000,000,000+'\n",
    "                                      or app[5] == '500,000,000+'\n",
    "                                      or app[5] == '100,000,000+'):\n",
    "        print(app[0], ':', app[5])"
   ]
  },
  {
   "cell_type": "markdown",
   "metadata": {},
   "source": [
    "If We remove the apps that have over a 100 million installs, we would see that the average has greatly reduced. "
   ]
  },
  {
   "cell_type": "code",
   "execution_count": 34,
   "metadata": {},
   "outputs": [
    {
     "data": {
      "text/plain": [
       "3603485.3884615386"
      ]
     },
     "execution_count": 34,
     "metadata": {},
     "output_type": "execute_result"
    }
   ],
   "source": [
    "under_100_m = []\n",
    "\n",
    "for app in google_store_free_apps:\n",
    "    n_installs = app[5]\n",
    "    n_installs = n_installs.replace(',', '')\n",
    "    n_installs = n_installs.replace('+', '')\n",
    "    if (app[1] == 'COMMUNICATION') and (float(n_installs) < 100000000):\n",
    "        under_100_m.append(float(n_installs))\n",
    "        \n",
    "sum(under_100_m) / len(under_100_m)"
   ]
  },
  {
   "cell_type": "markdown",
   "metadata": {},
   "source": [
    "We observe a similar trend in the Video Players category, which ranks second with 24,727,872 installs. This space is largely dominated by major players like YouTube, Google Play Movies & TV, and MX Player. The same pattern appears across other categories:\n",
    "\n",
    "Social apps (e.g., Facebook, Instagram, Google+)\n",
    "\n",
    "Photography (e.g., Google Photos, top photo editors)\n",
    "\n",
    "Productivity (e.g., Microsoft Word, Dropbox, Google Calendar, Evernote)\n",
    "\n",
    "In each case, a few dominant apps control the majority of the market, making it difficult for newcomers to gain traction. While these genres may appear highly popular, their visibility is skewed by the success of a small number of giants.\n",
    "\n",
    "Similarly, although Games show high install numbers, we’ve previously found that this market is heavily saturated. For that reason, we’re inclined to explore alternative app categories with more room for innovation and growth.\n",
    "\n",
    "The Health and Fitness genre category also shows promising popularity, with an average of 4,188,821 installs. This genre stands out as worth exploring further, especially since it appears to perform well on the App Store. Given our goal to identify an app category with strong profit potential across both the App Store and Google Play, this genre could be a viable candidate. \n",
    "\n",
    "Let's take a look at some of the apps from this genre and their number of installs:"
   ]
  },
  {
   "cell_type": "code",
   "execution_count": 36,
   "metadata": {},
   "outputs": [
    {
     "name": "stdout",
     "output_type": "stream",
     "text": [
      "Step Counter - Calorie Counter : 500,000+\n",
      "Lose Belly Fat in 30 Days - Flat Stomach : 5,000,000+\n",
      "Pedometer - Step Counter Free & Calorie Burner : 1,000,000+\n",
      "Six Pack in 30 Days - Abs Workout : 10,000,000+\n",
      "Lose Weight in 30 Days : 10,000,000+\n",
      "Pedometer : 10,000,000+\n",
      "LG Health : 10,000,000+\n",
      "Step Counter - Pedometer Free & Calorie Counter : 10,000,000+\n",
      "Pedometer, Step Counter & Weight Loss Tracker App : 10,000,000+\n",
      "Sportractive GPS Running Cycling Distance Tracker : 1,000,000+\n",
      "30 Day Fitness Challenge - Workout at Home : 10,000,000+\n",
      "Home Workout for Men - Bodybuilding : 1,000,000+\n",
      "Fat Burning Workout - Home Weight lose : 100,000+\n",
      "Buttocks and Abdomen : 500,000+\n",
      "Walking for Weight Loss - Walk Tracker : 100,000+\n",
      "Running & Jogging : 500,000+\n",
      "Sleep Sounds : 1,000,000+\n",
      "Fitbit : 10,000,000+\n",
      "Lose Belly Fat-Home Abs Fitness Workout : 50,000+\n",
      "Cycling - Bike Tracker : 500,000+\n",
      "Abs Training-Burn belly fat : 100,000+\n",
      "Calorie Counter - EasyFit free : 1,000,000+\n",
      "Aunjai i lert u : 500,000+\n",
      "Garmin Connect™ : 10,000,000+\n",
      "BetterMe: Weight Loss Workouts : 5,000,000+\n",
      "Bike Computer - GPS Cycling Tracker : 1,000,000+\n",
      "Six Packs for Man–Body Building with No Equipment : 100,000+\n",
      "Running Distance Tracker + : 1,000,000+\n",
      "The TK-App - everything under control : 100,000+\n",
      "Runkeeper - GPS Track Run Walk : 10,000,000+\n",
      "Walking: Pedometer diet : 1,000,000+\n",
      "Recipes for hair and face tried : 500,000+\n",
      "Abs Workout - 30 Days Fitness App for Six Pack Abs : 100,000+\n",
      "8fit Workouts & Meal Planner : 10,000,000+\n",
      "Keep Trainer - Workout Trainer & Fitness Coach : 1,000,000+\n",
      "Couch to 10K Running Trainer : 500,000+\n",
      "PumpUp — Fitness Community : 1,000,000+\n",
      "Home workouts - fat burning, abs, legs, arms,chest : 1,000,000+\n",
      "Running Weight Loss Walking Jogging Hiking FITAPP : 1,000,000+\n",
      "Strava Training: Track Running, Cycling & Swimming : 10,000,000+\n",
      "Workout Trainer: fitness coach : 10,000,000+\n",
      "Fabulous: Motivate Me! Meditate, Relax, Sleep : 5,000,000+\n",
      "StrongLifts 5x5 Workout Gym Log & Personal Trainer : 1,000,000+\n",
      "Run with Map My Run : 5,000,000+\n",
      "7 Minute Workout : 10,000,000+\n",
      "Workout Tracker & Gym Trainer - Fitness Log Book : 500,000+\n",
      "Freeletics: Personal Trainer & Fitness Workouts : 10,000,000+\n",
      "Fitbit Coach : 1,000,000+\n",
      "JEFIT Workout Tracker, Weight Lifting, Gym Log App : 5,000,000+\n",
      "Map My Ride GPS Cycling Riding : 1,000,000+\n",
      "Daily Workouts - Exercise Fitness Routine Trainer : 10,000,000+\n",
      "Google Fit - Fitness Tracking : 10,000,000+\n",
      "Weight Loss Running by Verv : 1,000,000+\n",
      "Sworkit: Workouts & Fitness Plans : 5,000,000+\n",
      "Map My Fitness Workout Trainer : 1,000,000+\n",
      "Sports Tracker Running Cycling : 5,000,000+\n",
      "Seven - 7 Minute Workout Training Challenge : 1,000,000+\n",
      "Daily Yoga - Yoga Fitness Plans : 5,000,000+\n",
      "Relax Meditation: Sleep with Sleep Sounds : 1,000,000+\n",
      "Free Meditation - Take a Break : 100,000+\n",
      "Meditate OM : 1,000,000+\n",
      "Yoga - Track Yoga : 500,000+\n",
      "My Chakra Meditation : 500,000+\n",
      "Relax with Andrew Johnson Lite : 100,000+\n",
      "Meditation Music - Relax, Yoga : 1,000,000+\n",
      "Down Dog: Great Yoga Anywhere : 500,000+\n",
      "21-Day Meditation Experience : 100,000+\n",
      "My Chakra Meditation 2 : 100,000+\n",
      "Simply Yoga - Fitness Trainer for Workouts & Poses : 1,000,000+\n",
      "Relax Melodies: Sleep Sounds : 5,000,000+\n",
      "Simple Habit Meditation : 500,000+\n",
      "Headspace: Meditation & Mindfulness : 10,000,000+\n",
      "Yoga Studio: Mind & Body : 100,000+\n",
      "Pregnancy & Baby Tracker : 1,000,000+\n",
      "My Cycles Period and Ovulation : 1,000,000+\n",
      "I’m Expecting - Pregnancy App : 1,000,000+\n",
      "The Bump Pregnancy Tracker : 1,000,000+\n",
      "My Days - Ovulation Calendar & Period Tracker ™ : 5,000,000+\n",
      "Best Ovulation Tracker Fertility Calendar App Glow : 1,000,000+\n",
      "Eve Period Tracker - Love, Sex & Relationships App : 1,000,000+\n",
      "Fertility Friend Ovulation App : 1,000,000+\n",
      "Pregnancy Tracker : 500,000+\n",
      "Period Tracker : 10,000,000+\n",
      "Spot On Period, Birth Control, & Cycle Tracker : 500,000+\n",
      "OvuView: Ovulation and Fertility : 1,000,000+\n",
      "Period Tracker - Period Calendar Ovulation Tracker : 100,000,000+\n",
      "Period Tracker Clue: Period and Ovulation Tracker : 10,000,000+\n",
      "Calorie Counter - MyFitnessPal : 50,000,000+\n",
      "WomanLog Calendar : 5,000,000+\n",
      "Geocaching® : 5,000,000+\n",
      "Map My Hike GPS Hiking : 500,000+\n",
      "ViewRanger - Hike, Ride or Walk : 1,000,000+\n",
      "Runtastic Mountain Bike GPS Tracker : 1,000,000+\n",
      "AllTrails: Hiking, Running & Mountain Bike Trails : 1,000,000+\n",
      "Water Drink Reminder : 10,000,000+\n",
      "Zombies, Run! 5k Training (Free) : 50,000+\n",
      "Tracks : 50,000+\n",
      "YAZIO Calorie Counter, Nutrition Diary & Diet Plan : 5,000,000+\n",
      "Technutri - calorie counter, diet and carb tracker : 5,000,000+\n",
      "Couch to 5K by RunDouble : 1,000,000+\n",
      "Fooducate Healthy Weight Loss & Calorie Counter : 1,000,000+\n",
      "Weight Watchers Mobile : 5,000,000+\n",
      "Walk with Map My Walk : 5,000,000+\n",
      "My Diet Coach - Weight Loss Motivation & Tracker : 10,000,000+\n",
      "Endomondo - Running & Walking : 10,000,000+\n",
      "Nike+ Run Club : 10,000,000+\n",
      "Lose It! - Calorie Counter : 10,000,000+\n",
      "Runtastic Running App & Mile Tracker : 10,000,000+\n",
      "Calorie Counter - MyNetDiary : 1,000,000+\n",
      "10 Best Foods for You : 500,000+\n",
      "MyPlate Calorie Tracker : 1,000,000+\n",
      "My Diet Diary Calorie Counter : 1,000,000+\n",
      "Calorie Counter - Macros : 100,000+\n",
      "Weight Loss Tracker - RecStyle : 1,000,000+\n",
      "Lark - 24/7 Health Coach : 100,000+\n",
      "MealLogger-Photo Food Journal : 50,000+\n",
      "Health and Nutrition Guide : 500,000+\n",
      "Calorie Counter & Diet Tracker : 1,000,000+\n",
      "Food Calorie Calculator : 100,000+\n",
      "Monitor Your Weight : 5,000,000+\n",
      "Calorie Counter by FatSecret : 10,000,000+\n",
      "Eat Fit - Diet and Health Free : 100,000+\n",
      "Self Healing : 500,000+\n",
      "Happify : 100,000+\n",
      "Binaural Beats Therapy : 1,000,000+\n",
      "Pacifica - Stress & Anxiety : 500,000+\n",
      "Relaxing Sounds : 100,000+\n",
      "White Sound Pro : 500,000+\n",
      "Insight Timer - Free Meditation App : 1,000,000+\n",
      "Self-help Anxiety Management : 500,000+\n",
      "Brain Waves - Binaural Beats : 500,000+\n",
      "Prana Breath: Calm & Meditate : 1,000,000+\n",
      "7 Cups: Anxiety & Stress Chat : 500,000+\n",
      "Calm - Meditate, Sleep, Relax : 5,000,000+\n",
      "White Noise Lite : 1,000,000+\n",
      "Stop, Breathe & Think: Meditation & Mindfulness : 1,000,000+\n",
      "Oral-B App : 1,000,000+\n",
      "f.lux (preview, root-only) : 500,000+\n",
      "HPlus : 100,000+\n",
      "H Band 2.0 : 500,000+\n",
      "H-Connect : 5,000+\n",
      "H Band : 10,000+\n",
      "J - Style Pro : 10,000+\n",
      "K Health : 50,000+\n",
      "Vi Trainer : 5,000+\n",
      "30 Day Ab Challenge : 500,000+\n",
      "Ultimate Ab & Core Workouts : 1,000,000+\n",
      "Abs Workout - Burn Belly Fat with No Equipment : 10,000,000+\n",
      "6 Pack Promise - Ultimate Abs : 1,000,000+\n",
      "Abs, Core & Back Workout Challenge : 100,000+\n",
      "AB Mobile App : 100,000+\n",
      "Daily Ab Workout - Core & Abs Fitness Exercises : 10,000,000+\n",
      "Abs workout 7 minutes : 1,000,000+\n",
      "30 Day Ab Challenge FREE : 1,000,000+\n",
      "ABS Workout - Belly workout, 30 days AB : 100,000+\n",
      "7 minute abs workout - Daily Ab Workout : 100,000+\n",
      "5 Minute Ab Workouts : 50,000+\n",
      "30 Day AB Challenge - Lumowell : 10,000+\n",
      "Ab Workouts : 1,000,000+\n",
      "Ab Workouts - Ab Generator : 1,000+\n",
      "Abs workout - 21 Day Fitness Challenge : 1,000,000+\n",
      "Ladies' Ab Workout FREE : 1,000,000+\n",
      "30-Day Ab Challenge Tracker : 10,000+\n",
      "AF Hydro : 10,000+\n",
      "AF Nutrition - Integratori : 100+\n",
      "AH Connect (Adventist Health) : 1,000+\n",
      "be'ah : 10+\n",
      "We're Working Out - Al Kavadlo : 50,000+\n",
      "AQ Dentals : 10+\n",
      "Sleep as Android Gear Addon : 100,000+\n",
      "Sleep as Android Garmin Addon : 10,000+\n",
      "Samsung Health : 500,000,000+\n",
      "Runtastic Sleep Better: Sleep Cycle & Smart Alarm : 5,000,000+\n",
      "Twilight: Blue light filter : 5,000,000+\n",
      "MediBeat for AW - Android (1) : 500+\n",
      "Q7 SmartWatch : 10,000+\n",
      "AY Oakmont : 10+\n",
      "Cures A-Z : 100,000+\n",
      "BA Accesible : 1,000+\n",
      "Fitness Dance for Zum.ba Workout Exercise : 50,000+\n",
      "BD Provider App : 5,000+\n",
      "BF Scale Health Fitness Tool : 1,000+\n",
      "Women\"s Health Tips(Breast,Face,Body,weight lose) : 1,000,000+\n",
      "Revita.bg : 10+\n",
      "Blood Glucose Tracker : 100,000+\n",
      "BH by Kinomap : 10,000+\n",
      "BH - Fitness & Nutrition : 1+\n",
      "FitConsole : 50,000+\n",
      "Run on Earth : 50,000+\n",
      "Treadmill Workouts Free (P) : 1,000+\n",
      "The Daily BJ : 500+\n",
      "Hungry Girl Diet Bk. Companion : 1,000+\n",
      "BL ONLINE PERSONAL TRAINING : 5+\n",
      "Poop Tracker - Toilet Log : 10,000+\n",
      "BM Pharmacy : 1,000+\n",
      "BM Physiotherapy Clinic : 100+\n",
      "My BP Lab : 10,000+\n",
      "BP Tracker : 1,000+\n",
      "MI-BP : 50+\n",
      "Deep Breathe BP : 1,000+\n",
      "BP Toolbox : 1,000+\n",
      "Blood pressure : 500,000+\n",
      "Bacterial Vaginosis : 100+\n",
      "Bacterial Vaginosis 🇺🇸 : 500+\n",
      "Bacteria Vaginosis : 1,000,000+\n",
      "Bacterial vaginosis Treatment - Sexual disease : 500+\n",
      "Home Remedies for Bacterial Infections : 50+\n",
      "Benefit Extras Mobile App : 1,000+\n",
      "Kick Axe Bx : 1+\n",
      "CB Martial Arts : 10+\n",
      "CB NFC Pendant : 50+\n",
      "CB Fit : 10+\n",
      "C B Patel Health Club : 100+\n",
      "CF SPOT : 100+\n",
      "CF Talenti : 100+\n",
      "Thrive CF : 100+\n",
      "CF Townsville : 100+\n",
      "CF Etowah : 100+\n",
      "Cystic Fibrosis Symptoms, Doctors & Treatments : 100+\n",
      "CF Themis : 100+\n",
      "CF Riga : 100+\n",
      "Casa CF : 500+\n",
      "CampGladiator : 50,000+\n",
      "CG Fit Scale : 1,000+\n",
      "Pharmacy CI - Pharmacies de garde Côte d'Ivoire : 100,000+\n",
      "Pharmacie de Garde CI et Prix : 100,000+\n",
      "CJ Fitness : 10,000+\n",
      "The CJ Rubric : 100+\n",
      "CK SKILLZ : 50+\n",
      "CK Life : 100+\n",
      "CK Pharmacies : 100+\n",
      "CK Active : 10+\n",
      "CL-Customer Care : 5+\n",
      "CL Strength : 50+\n",
      "The ClubHouse CR : 100+\n",
      "Evolution Marketing CR : 1,000+\n",
      "I AM C.T. : 1,000+\n",
      "Cy's Elma Pharmacy : 10+\n",
      "DG Fitness : 100+\n",
      "DG Xplained : 100+\n",
      "Stop Smoking - EasyQuit free : 500,000+\n",
      "Dr. Muscle : 10,000+\n",
      "DS Companion : 50+\n",
      "Eat Right Diet (by Dt Shreya's Family Diet Clinic) : 10+\n",
      "Dt. Jyothi Srinivas : 100+\n",
      "DT NO.I : 1,000+\n",
      "Bodyworks DW : 10+\n",
      "D.W Bien Être : 10+\n",
      "Cloud DX Connected Health : 100+\n",
      "DY Fitness : 10+\n",
      "PHARMAGUIDE (DZ) : 5,000+\n",
      "DEM DZ : 100+\n",
      "Eb & flow Yoga Studio : 10+\n",
      "EF Coach : 500+\n",
      "EF Academy : 50+\n",
      "Period Tracker, Pregnancy Calculator & Calendar 🌸 : 10,000+\n",
      "EO App. SelfCompassion to you : 100+\n",
      "Nike Training Club - Workouts & Fitness Plans : 10,000,000+\n",
      "Ideal Weight, BMI Calculator : 5,000,000+\n",
      "Fitness & Bodybuilding : 5,000,000+\n",
      "CALIOPE EU: Air Quality : 1,000+\n",
      "Home Workout - No Equipment : 10,000,000+\n",
      "EW MOTION THERAPY : 10+\n",
      "SCI-Ex : 1,000+\n",
      "X your Ex - Break Up Treatment : 5,000+\n",
      "Dream EZ : 10,000+\n",
      "FD Fitness : 50+\n",
      "L!FE Premium Training : 100+\n",
      "Santa Fe Thrive : 50+\n",
      "Burn Your Fat With Me! FG : 1,000,000+\n",
      "FH Calculator : 500+\n",
      "Restaurant Inspections - FL : 10,000+\n",
      "Florida Blue : 100,000+\n"
     ]
    }
   ],
   "source": [
    "for app in google_store_free_apps:\n",
    "    if app[1] == 'HEALTH_AND_FITNESS':\n",
    "        print(app[0], ':', app[5])"
   ]
  },
  {
   "cell_type": "markdown",
   "metadata": {},
   "source": [
    "The Health and Fitness category has a variety of apps for that address increasing popular focus currently like weight loss, sound sleep, mental health and many more. It seems there's still a small number of extremely popular apps that skew the average:"
   ]
  },
  {
   "cell_type": "code",
   "execution_count": 37,
   "metadata": {},
   "outputs": [
    {
     "name": "stdout",
     "output_type": "stream",
     "text": [
      "Period Tracker - Period Calendar Ovulation Tracker : 100,000,000+\n",
      "Samsung Health : 500,000,000+\n"
     ]
    }
   ],
   "source": [
    "for app in google_store_free_apps:\n",
    "    if app[1] == 'HEALTH_AND_FITNESS' and (app[5] == '1,000,000,000+'\n",
    "                                            or app[5] == '500,000,000+'\n",
    "                                            or app[5] == '100,000,000+'):\n",
    "        print(app[0], ':', app[5])"
   ]
  },
  {
   "cell_type": "markdown",
   "metadata": {},
   "source": [
    "However, there are just two very popular apps. Thus, this market still shows potential. Let's try to get some app ideas based on the kind of apps that are somewhere in the middle in terms of popularity (between 1,000,000 and 100,000,000 downloads):"
   ]
  },
  {
   "cell_type": "code",
   "execution_count": 38,
   "metadata": {},
   "outputs": [
    {
     "name": "stdout",
     "output_type": "stream",
     "text": [
      "Lose Belly Fat in 30 Days - Flat Stomach : 5,000,000+\n",
      "Pedometer - Step Counter Free & Calorie Burner : 1,000,000+\n",
      "Six Pack in 30 Days - Abs Workout : 10,000,000+\n",
      "Lose Weight in 30 Days : 10,000,000+\n",
      "Pedometer : 10,000,000+\n",
      "LG Health : 10,000,000+\n",
      "Step Counter - Pedometer Free & Calorie Counter : 10,000,000+\n",
      "Pedometer, Step Counter & Weight Loss Tracker App : 10,000,000+\n",
      "Sportractive GPS Running Cycling Distance Tracker : 1,000,000+\n",
      "30 Day Fitness Challenge - Workout at Home : 10,000,000+\n",
      "Home Workout for Men - Bodybuilding : 1,000,000+\n",
      "Sleep Sounds : 1,000,000+\n",
      "Fitbit : 10,000,000+\n",
      "Calorie Counter - EasyFit free : 1,000,000+\n",
      "Garmin Connect™ : 10,000,000+\n",
      "BetterMe: Weight Loss Workouts : 5,000,000+\n",
      "Bike Computer - GPS Cycling Tracker : 1,000,000+\n",
      "Running Distance Tracker + : 1,000,000+\n",
      "Runkeeper - GPS Track Run Walk : 10,000,000+\n",
      "Walking: Pedometer diet : 1,000,000+\n",
      "8fit Workouts & Meal Planner : 10,000,000+\n",
      "Keep Trainer - Workout Trainer & Fitness Coach : 1,000,000+\n",
      "PumpUp — Fitness Community : 1,000,000+\n",
      "Home workouts - fat burning, abs, legs, arms,chest : 1,000,000+\n",
      "Running Weight Loss Walking Jogging Hiking FITAPP : 1,000,000+\n",
      "Strava Training: Track Running, Cycling & Swimming : 10,000,000+\n",
      "Workout Trainer: fitness coach : 10,000,000+\n",
      "Fabulous: Motivate Me! Meditate, Relax, Sleep : 5,000,000+\n",
      "StrongLifts 5x5 Workout Gym Log & Personal Trainer : 1,000,000+\n",
      "Run with Map My Run : 5,000,000+\n",
      "7 Minute Workout : 10,000,000+\n",
      "Freeletics: Personal Trainer & Fitness Workouts : 10,000,000+\n",
      "Fitbit Coach : 1,000,000+\n",
      "JEFIT Workout Tracker, Weight Lifting, Gym Log App : 5,000,000+\n",
      "Map My Ride GPS Cycling Riding : 1,000,000+\n",
      "Daily Workouts - Exercise Fitness Routine Trainer : 10,000,000+\n",
      "Google Fit - Fitness Tracking : 10,000,000+\n",
      "Weight Loss Running by Verv : 1,000,000+\n",
      "Sworkit: Workouts & Fitness Plans : 5,000,000+\n",
      "Map My Fitness Workout Trainer : 1,000,000+\n",
      "Sports Tracker Running Cycling : 5,000,000+\n",
      "Seven - 7 Minute Workout Training Challenge : 1,000,000+\n",
      "Daily Yoga - Yoga Fitness Plans : 5,000,000+\n",
      "Relax Meditation: Sleep with Sleep Sounds : 1,000,000+\n",
      "Meditate OM : 1,000,000+\n",
      "Meditation Music - Relax, Yoga : 1,000,000+\n",
      "Simply Yoga - Fitness Trainer for Workouts & Poses : 1,000,000+\n",
      "Relax Melodies: Sleep Sounds : 5,000,000+\n",
      "Headspace: Meditation & Mindfulness : 10,000,000+\n",
      "Pregnancy & Baby Tracker : 1,000,000+\n",
      "My Cycles Period and Ovulation : 1,000,000+\n",
      "I’m Expecting - Pregnancy App : 1,000,000+\n",
      "The Bump Pregnancy Tracker : 1,000,000+\n",
      "My Days - Ovulation Calendar & Period Tracker ™ : 5,000,000+\n",
      "Best Ovulation Tracker Fertility Calendar App Glow : 1,000,000+\n",
      "Eve Period Tracker - Love, Sex & Relationships App : 1,000,000+\n",
      "Fertility Friend Ovulation App : 1,000,000+\n",
      "Period Tracker : 10,000,000+\n",
      "OvuView: Ovulation and Fertility : 1,000,000+\n",
      "Period Tracker Clue: Period and Ovulation Tracker : 10,000,000+\n",
      "Calorie Counter - MyFitnessPal : 50,000,000+\n",
      "WomanLog Calendar : 5,000,000+\n",
      "Geocaching® : 5,000,000+\n",
      "ViewRanger - Hike, Ride or Walk : 1,000,000+\n",
      "Runtastic Mountain Bike GPS Tracker : 1,000,000+\n",
      "AllTrails: Hiking, Running & Mountain Bike Trails : 1,000,000+\n",
      "Water Drink Reminder : 10,000,000+\n",
      "YAZIO Calorie Counter, Nutrition Diary & Diet Plan : 5,000,000+\n",
      "Technutri - calorie counter, diet and carb tracker : 5,000,000+\n",
      "Couch to 5K by RunDouble : 1,000,000+\n",
      "Fooducate Healthy Weight Loss & Calorie Counter : 1,000,000+\n",
      "Weight Watchers Mobile : 5,000,000+\n",
      "Walk with Map My Walk : 5,000,000+\n",
      "My Diet Coach - Weight Loss Motivation & Tracker : 10,000,000+\n",
      "Endomondo - Running & Walking : 10,000,000+\n",
      "Nike+ Run Club : 10,000,000+\n",
      "Lose It! - Calorie Counter : 10,000,000+\n",
      "Runtastic Running App & Mile Tracker : 10,000,000+\n",
      "Calorie Counter - MyNetDiary : 1,000,000+\n",
      "MyPlate Calorie Tracker : 1,000,000+\n",
      "My Diet Diary Calorie Counter : 1,000,000+\n",
      "Weight Loss Tracker - RecStyle : 1,000,000+\n",
      "Calorie Counter & Diet Tracker : 1,000,000+\n",
      "Monitor Your Weight : 5,000,000+\n",
      "Calorie Counter by FatSecret : 10,000,000+\n",
      "Binaural Beats Therapy : 1,000,000+\n",
      "Insight Timer - Free Meditation App : 1,000,000+\n",
      "Prana Breath: Calm & Meditate : 1,000,000+\n",
      "Calm - Meditate, Sleep, Relax : 5,000,000+\n",
      "White Noise Lite : 1,000,000+\n",
      "Stop, Breathe & Think: Meditation & Mindfulness : 1,000,000+\n",
      "Oral-B App : 1,000,000+\n",
      "Ultimate Ab & Core Workouts : 1,000,000+\n",
      "Abs Workout - Burn Belly Fat with No Equipment : 10,000,000+\n",
      "6 Pack Promise - Ultimate Abs : 1,000,000+\n",
      "Daily Ab Workout - Core & Abs Fitness Exercises : 10,000,000+\n",
      "Abs workout 7 minutes : 1,000,000+\n",
      "30 Day Ab Challenge FREE : 1,000,000+\n",
      "Ab Workouts : 1,000,000+\n",
      "Abs workout - 21 Day Fitness Challenge : 1,000,000+\n",
      "Ladies' Ab Workout FREE : 1,000,000+\n",
      "Runtastic Sleep Better: Sleep Cycle & Smart Alarm : 5,000,000+\n",
      "Twilight: Blue light filter : 5,000,000+\n",
      "Women\"s Health Tips(Breast,Face,Body,weight lose) : 1,000,000+\n",
      "Bacteria Vaginosis : 1,000,000+\n",
      "Nike Training Club - Workouts & Fitness Plans : 10,000,000+\n",
      "Ideal Weight, BMI Calculator : 5,000,000+\n",
      "Fitness & Bodybuilding : 5,000,000+\n",
      "Home Workout - No Equipment : 10,000,000+\n",
      "Burn Your Fat With Me! FG : 1,000,000+\n"
     ]
    }
   ],
   "source": [
    "for app in google_store_free_apps:\n",
    "    if app[1] == 'HEALTH_AND_FITNESS' and (app[5] == '1,000,000+'\n",
    "                                            or app[5] == '5,000,000+'\n",
    "                                            or app[5] == '10,000,000+'\n",
    "                                            or app[5] == '50,000,000+'):\n",
    "        print(app[0], ':', app[5])"
   ]
  },
  {
   "cell_type": "markdown",
   "metadata": {},
   "source": [
    "The niche seems to be dominated by apps for weight loss. It is not a good idea to build a similar app as there will be a lot of competition. \n",
    "\n",
    "Based on the above, I would recommend our engineers build a personalised habit coach app that is a hybrid of health and wellness. "
   ]
  },
  {
   "cell_type": "markdown",
   "metadata": {},
   "source": [
    "### Conclusion - \n",
    "\n",
    "In this project, we analyzed data from the iOS App Store and Google Play Store to identify a profitable app profile for both markets.\n",
    "\n",
    "Our analysis showed consistent and growing user engagement with Health and Fitness apps across both platforms. Based on these insights, developing a personalized habit-coaching app that combines elements of health, wellness, and behavioral science to help users build sustainable habits.\n",
    "\n",
    "This type of app aligns well with current trends in personal development and digital wellness, and it will offer long-term value by supporting users in areas such as fitness routines, sleep improvement, nutrition, mindfulness, and productivity. By offering a highly customized experience through features like daily check-ins, adaptive goal setting, and habit tracking, we can keep users engaged and motivated over time.\n",
    "\n",
    "By focusing on user value first and building trust, we can encourage long-term engagement and gradual conversion to premium features, creating a healthy balance between user satisfaction and business profitability."
   ]
  }
 ],
 "metadata": {
  "kernelspec": {
   "display_name": "Python 3",
   "language": "python",
   "name": "python3"
  },
  "language_info": {
   "codemirror_mode": {
    "name": "ipython",
    "version": 3
   },
   "file_extension": ".py",
   "mimetype": "text/x-python",
   "name": "python",
   "nbconvert_exporter": "python",
   "pygments_lexer": "ipython3",
   "version": "3.8.2"
  }
 },
 "nbformat": 4,
 "nbformat_minor": 2
}
